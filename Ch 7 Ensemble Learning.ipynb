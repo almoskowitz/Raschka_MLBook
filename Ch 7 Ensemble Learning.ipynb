{
 "cells": [
  {
   "cell_type": "markdown",
   "metadata": {},
   "source": [
    "### Learning with Ensembles\n",
    "\n",
    "Focus on the \"majority voting\" principle: select the class lsbel that has been predicted by the majority of classifiers (e.g. recieved more than 50% of the votes) For multiclass systems use \"plurality voting\" which is just selecting the modal group. \n",
    "\n",
    "Can use same or different algorithms to generate votes\n",
    "\n",
    "Use binomial distribution (and the binomial coefficient) to get a smaller error rate than any individual classifier alone. Certain assumptions must be made (generally, that errors across classifiers are equal and that models are independent- although these may be relaxed). \n",
    "\n",
    "To compare an idealistic endsemble over a range of different base error rates, can implement the probability mass function. "
   ]
  },
  {
   "cell_type": "code",
   "execution_count": 3,
   "metadata": {},
   "outputs": [
    {
     "data": {
      "text/plain": [
       "0.034327507019042969"
      ]
     },
     "execution_count": 3,
     "metadata": {},
     "output_type": "execute_result"
    }
   ],
   "source": [
    "from scipy.misc import comb\n",
    "import math\n",
    "\n",
    "def ensemble_error(n_classifier, error):\n",
    "    k_start = int(math.ceil(n_classifier / 2.0))\n",
    "    probs = [comb(n_classifier, k) * error**k * (1-error)**(n_classifier - k)\n",
    "            for k in range(k_start, int(n_classifier + 1))]\n",
    "    return sum(probs)\n",
    "\n",
    "ensemble_error(n_classifier = 11, error = 0.25)"
   ]
  },
  {
   "cell_type": "code",
   "execution_count": 5,
   "metadata": {},
   "outputs": [
    {
     "data": {
      "image/png": "[encoded data removed]",
      "text/plain": [
       "<matplotlib.figure.Figure at 0x10bcc3bd0>"
      ]
     },
     "metadata": {},
     "output_type": "display_data"
    }
   ],
   "source": [
    "# For a range of different base errors from 0.0 to 1.0\n",
    "\n",
    "import numpy as np\n",
    "error_range = np.arange(0.0, 1.01, 0.01)\n",
    "ens_errors = [ensemble_error(n_classifier=11, error=error) for error in error_range]\n",
    "import matplotlib.pyplot as plt\n",
    "plt.plot(error_range, ens_errors, label='Ensemble error', linewidth=2)\n",
    "plt.plot(error_range, error_range, linestyle='--', label = 'Base error', linewidth=2)\n",
    "plt.xlabel('Base error')\n",
    "plt.ylabel('Base/Ensemble error')\n",
    "plt.legend(loc='upper left')\n",
    "plt.grid()\n",
    "plt.show()"
   ]
  },
  {
   "cell_type": "markdown",
   "metadata": {},
   "source": [
    "Above: Ensemble error ALWAYS performs better than individual base classifiers as long as base classifiers perform better than random guessing."
   ]
  },
  {
   "cell_type": "markdown",
   "metadata": {},
   "source": [
    "### Implementing a simple majority vote classifier"
   ]
  },
  {
   "cell_type": "code",
   "execution_count": 6,
   "metadata": {},
   "outputs": [
    {
     "data": {
      "text/plain": [
       "1"
      ]
     },
     "execution_count": 6,
     "metadata": {},
     "output_type": "execute_result"
    }
   ],
   "source": [
    "#### Concept of weighted majority (i.e., giving one classifier more votes than others)\n",
    "\n",
    "import numpy as np\n",
    "np.argmax(np.bincount([0, 0, 1],\n",
    "                     weights=[0.2, 0.2, 0.6]))"
   ]
  },
  {
   "cell_type": "code",
   "execution_count": 9,
   "metadata": {},
   "outputs": [
    {
     "name": "stdout",
     "output_type": "stream",
     "text": [
      "[ 0.58  0.42]\n",
      "0\n"
     ]
    }
   ],
   "source": [
    "### Based on class probabilites\n",
    "\n",
    "ex = np.array([[0.9,0.1],\n",
    "             [0.8, 0.2],\n",
    "             [0.4, 0.6]])\n",
    "\n",
    "p = np.average(ex, axis=0, weights=[0.2, 0.2, 0.6])\n",
    "print(p)\n",
    "print(np.argmax(p))"
   ]
  },
  {
   "cell_type": "code",
   "execution_count": 11,
   "metadata": {},
   "outputs": [],
   "source": [
    "# implement a MajorityVoteClassifier \n",
    "\n",
    "from sklearn.base import BaseEstimator\n",
    "from sklearn.base import ClassifierMixin\n",
    "from sklearn.preprocessing import LabelEncoder\n",
    "from sklearn.externals import six\n",
    "from sklearn.base import clone\n",
    "from sklearn.pipeline import _name_estimators\n",
    "import numpy as np\n",
    "import operator \n",
    "\n",
    "class MajorityVoteClassifier(BaseEstimator, ClassifierMixin):\n",
    "    \"\"\" A Majority vote ensemble classifier \n",
    "    \n",
    "    Params\n",
    "    --------------\n",
    "    \n",
    "    classifiers: array-lline, shape = n_classifiers\n",
    "        Different classifiers for the ensemble\n",
    "        \n",
    "    vote: str, {'classlabel', 'probability'}\n",
    "        Default: 'classlabel'\n",
    "        If 'classlabel' the prediciton is based on the argmax\n",
    "        of the class lables. Else if 'probability' the argmax of the\n",
    "        sum of the probabilities is used to predict the class label\n",
    "        (recommended for calibrated classifiers).\n",
    "        \n",
    "    Weights: array-like, shape = [n_classifiers]\n",
    "        Optional, default: None\n",
    "        If a list of `int` or `float` values are provided, the \n",
    "        classifiers are weighted by importance; Uses uniform weights\n",
    "        if weights = None\"\"\"\n",
    "    \n",
    "    def __init__(self, classifiers, vote = 'classlabel', weights = None):\n",
    "        \n",
    "        self.classifiers = classifiers\n",
    "        \n",
    "        self.named_classifiers = {key: value for key, value in\n",
    "                                 _name_estimators(classifiers)}\n",
    "        \n",
    "        self.vote = vote\n",
    "        self.weights = weights\n",
    "        \n",
    "    def fit(self, X, y):\n",
    "        \n",
    "        \"\"\"Fit Classifiers.\n",
    "        parameters\n",
    "        -----------\n",
    "        \n",
    "        X: {array-like, sparse matrix},\n",
    "            shape = [n_samples, n_features]\n",
    "            Matrix of training samples\n",
    "            \n",
    "        y: array-like, shape = [n_samples]\n",
    "            vector of target class labels.\n",
    "            \n",
    "        Returns\n",
    "        --------\n",
    "        self: object\"\"\"\n",
    "        \n",
    "    # Use LabelEncoder to ensure class labels start with 0 (important for np.argmax in self.predict)\n",
    "\n",
    "        self.lablenc_ = LabelEncoder()\n",
    "        self.lablenc_.fit(y)\n",
    "        self.classes_ = self.lablenc_.classes_\n",
    "        self.classifiers_ = []\n",
    "        for clf in self.classifiers:\n",
    "            fitted_clf = clone(clf).fit(X,\n",
    "                                  self.lablenc_.transofrm(y))\n",
    "            self.classifiers_.append(fitted_clf)\n",
    "        return self "
   ]
  },
  {
   "cell_type": "code",
   "execution_count": null,
   "metadata": {
    "collapsed": true
   },
   "outputs": [],
   "source": [
    "def predict(self, X):\n",
    "    \"\"\" Predict class labels for X.\n",
    "    \n",
    "    Parameters\n",
    "    -----------\"\"\""
   ]
  }
 ],
 "metadata": {
  "kernelspec": {
   "display_name": "Python 2",
   "language": "python",
   "name": "python2"
  },
  "language_info": {
   "codemirror_mode": {
    "name": "ipython",
    "version": 2
   },
   "file_extension": ".py",
   "mimetype": "text/x-python",
   "name": "python",
   "nbconvert_exporter": "python",
   "pygments_lexer": "ipython2",
   "version": "2.7.14"
  }
 },
 "nbformat": 4,
 "nbformat_minor": 2
}
